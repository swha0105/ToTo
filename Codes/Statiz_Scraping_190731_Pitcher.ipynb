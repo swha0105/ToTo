{
 "cells": [
  {
   "cell_type": "code",
   "execution_count": 1,
   "metadata": {},
   "outputs": [],
   "source": [
    "import requests\n",
    "from bs4 import BeautifulSoup\n",
    "import pandas as pd\n",
    "import os"
   ]
  },
  {
   "cell_type": "code",
   "execution_count": 2,
   "metadata": {},
   "outputs": [],
   "source": [
    "def find_table_pitcher(soup):\n",
    "    a= soup.find('div', {'class':'wrapper'})\n",
    "    b = a.find('div', {'class':'content-wrapper'})\n",
    "    c = b.find('div', {'class':'container'})\n",
    "    d = c.find('section', {'class':'content'})\n",
    "    e = d.find('div', {'class':'row'})\n",
    "    f= e.find_all('div', {'class':'col-md-12 col-xs-12 col-sm-12 col-lg-12'})[-1]\n",
    "    g = f.find('div', {'class':'row'})\n",
    "    h = g.find_all('div', {'class':'col-xs-12', 'style': 'padding-bottom:5px;'})[-2]\n",
    "    i = h.find('div', {'class':'box'})\n",
    "    j = i.find('div', {'class':'box-body no-padding table-responsive'})\n",
    "    k = j.find('table', {'class':'table table-striped table-responsive table-condensed no-space table-bordered'})\n",
    "    l = k.find_all('tr', {'class':'oddrow_stz0'})\n",
    "\n",
    "    l_colhead = k.find_all('tr', {'class':'colhead_stz0'})\n",
    "    l_oddrow = k.find_all('tr', {'class':'oddrow_stz0'})\n",
    "    l_evenrow = k.find_all('tr', {'class':'evenrow_stz0'})\n",
    "    \n",
    "    return l_oddrow, l_evenrow"
   ]
  },
  {
   "cell_type": "code",
   "execution_count": 3,
   "metadata": {},
   "outputs": [],
   "source": [
    "def write_table_pitcher(l_oddrow, l_evenrow, name, year, path):\n",
    "    season_list = []\n",
    "    for odd in l_oddrow:\n",
    "        elements = odd.find_all('td', {'style':'white-space:nowrap;text-align:center;vertical-align:middle;'})\n",
    "        elements2 = odd.find_all('td', {'style':'border-left:2px solid #333333;white-space:nowrap;text-align:center;vertical-align:middle;'})\n",
    "        element3 = odd.find('td', {'stye':'white-space:nowrap;text-align:center;vertical-align:middle;'})\n",
    "\n",
    "        daily_list = []\n",
    "\n",
    "        for element in elements:\n",
    "            string = element.find('span', {'style':'padding-left:3px;padding-right:3px;'}).text\n",
    "            daily_list.append(string)\n",
    "        for element2 in elements2[:-2]:\n",
    "            string2= element2.find('span', {'style':'padding-left:3px;padding-right:3px;'}).text\n",
    "            daily_list.append(string2)\n",
    "        string3 = element3.find('span', {'style':'padding-left:3px;padding-right:3px;'}).text\n",
    "        daily_list.append(string3)\n",
    "        season_list.append(daily_list)\n",
    "    for even in l_evenrow:\n",
    "        elements = even.find_all('td', {'style':'white-space:nowrap;text-align:center;vertical-align:middle;'})\n",
    "        elements2 = even.find_all('td', {'style':'border-left:2px solid #333333;white-space:nowrap;text-align:center;vertical-align:middle;'})\n",
    "        element3 = even.find('td', {'stye':'white-space:nowrap;text-align:center;vertical-align:middle;'})\n",
    "\n",
    "        daily_list = []\n",
    "\n",
    "        for element in elements:\n",
    "            string = element.find('span', {'style':'padding-left:3px;padding-right:3px;'}).text\n",
    "            daily_list.append(string)\n",
    "        for element2 in elements2[:-2]:\n",
    "            string2= element2.find('span', {'style':'padding-left:3px;padding-right:3px;'}).text\n",
    "            daily_list.append(string2)\n",
    "        string3 = element3.find('span', {'style':'padding-left:3px;padding-right:3px;'}).text\n",
    "        daily_list.append(string3)\n",
    "        season_list.append(daily_list)\n",
    "    df_season = pd.DataFrame(season_list)\n",
    "    cols_index = ['Date', 'Opposite', 'Score', 'Run', 'Earnedrun', 'Plateappear', 'Atbats', 'Hit', 'Double', 'Triple', 'HR', 'BB', 'Intentional_BB', 'HBP', 'SO', 'Pitches', 'AVG', 'OBP', 'OPS', 'ERA', 'RE24', 'WPA', 'Decision', 'Interval', 'Started', 'WHIP', 'Innings']\n",
    "    df_season.columns = cols_index\n",
    "    dataframe_season=df_season.sort_values(by= ['Date']).reset_index().drop(columns='index')\n",
    "    dataframe_season.insert(0, 'Year', year)\n",
    "    dataframe_season.insert(0, 'Name', name)\n",
    "    dataframe_season.to_csv(path+name+year+'.csv', encoding='cp949', index=False)"
   ]
  },
  {
   "cell_type": "code",
   "execution_count": 8,
   "metadata": {},
   "outputs": [
    {
     "name": "stdout",
     "output_type": "stream",
     "text": [
      "Wall time: 1.61 s\n"
     ]
    }
   ],
   "source": [
    "%%time\n",
    "result_folder = 'Sample_Result_pitcher/'\n",
    "path = os.path.join(str(os.getcwd()), result_folder)\n",
    "if not os.path.isdir(path):\n",
    "    os.mkdir(path)\n",
    "name_list = ['양현종', '임기영']\n",
    "birth_list = ['1988-03-01', '1993-04-16']\n",
    "yrs_list = ['2017', '2018', '2019']\n",
    "for i in range(len(name_list)):\n",
    "    for year in yrs_list:\n",
    "        url = 'http://www.statiz.co.kr/player.php?opt=3&sopt=0&name='+name_list[i]+'&birth='+birth_list[i]+'&re=1&se=&da=&year='+year+'&cv='\n",
    "        response = requests.get(url)\n",
    "        html = response.text\n",
    "        soup = BeautifulSoup(html, 'html.parser')\n",
    "        l_oddrow, l_evenrow = find_table_pitcher(soup)\n",
    "        write_table_pitcher(l_oddrow, l_evenrow, name_list[i], year, path)"
   ]
  },
  {
   "cell_type": "code",
   "execution_count": null,
   "metadata": {},
   "outputs": [],
   "source": []
  },
  {
   "cell_type": "code",
   "execution_count": null,
   "metadata": {},
   "outputs": [],
   "source": []
  },
  {
   "cell_type": "code",
   "execution_count": null,
   "metadata": {},
   "outputs": [],
   "source": []
  }
 ],
 "metadata": {
  "kernelspec": {
   "display_name": "Python 3",
   "language": "python",
   "name": "python3"
  },
  "language_info": {
   "codemirror_mode": {
    "name": "ipython",
    "version": 3
   },
   "file_extension": ".py",
   "mimetype": "text/x-python",
   "name": "python",
   "nbconvert_exporter": "python",
   "pygments_lexer": "ipython3",
   "version": "3.7.3"
  }
 },
 "nbformat": 4,
 "nbformat_minor": 2
}
